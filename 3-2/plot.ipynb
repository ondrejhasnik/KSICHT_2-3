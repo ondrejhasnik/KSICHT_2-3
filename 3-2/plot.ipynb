{
 "cells": [
  {
   "cell_type": "code",
   "execution_count": null,
   "id": "aeb4d311-f244-40b7-b9c2-bac5398cf5c0",
   "metadata": {},
   "outputs": [],
   "source": [
    "import numpy as np\n",
    "from scipy.optimize import curve_fit\n",
    "import matplotlib.pyplot as plt\n",
    "\n",
    "def delta_obs(L, P, K_d, delta_max):\n",
    "    term1 = (P + L + K_d)\n",
    "    term2 = np.sqrt(term1**2 - 4 * P * L)\n",
    "    delta_obs_value = delta_max * (term1 - term2) / (2 * P)\n",
    "    return delta_obs_value\n",
    "\n",
    "L_values = np.array([0.165, 0.625, 1.250, 2.500, 5.000])\n",
    "\n",
    "P = 0.1  \n",
    "\n",
    "delta_obs_values = np.array([0.021234, 0.041444, 0.053381, 0.070571, 0.090052])\n",
    "\n",
    "initial_guess = [1.0, 0.1]\n",
    "\n",
    "popt, pcov = curve_fit(lambda L, K_d, delta_max: delta_obs(L, P, K_d, delta_max),\n",
    "                       L_values, delta_obs_values, p0=initial_guess)\n",
    "K_d_fit, delta_max_fit = popt\n",
    "\n",
    "fitted_delta_obs = delta_obs(L_values, P, K_d_fit, delta_max_fit)\n",
    "\n",
    "L_smooth = np.linspace(min(L_values), max(L_values), 500)\n",
    "fitted_delta_obs_smooth = delta_obs(L_smooth, P, K_d_fit, delta_max_fit)\n",
    "\n",
    "plt.figure(figsize=(8, 6))\n",
    "plt.scatter(L_values, delta_obs_values, color='red', label='Experimental data')\n",
    "plt.plot(L_smooth, fitted_delta_obs_smooth, \n",
    "         label=f'Fitted curve (K_d={K_d_fit:.4f}, Δδ_max (ppm)={delta_max_fit:.4f})', \n",
    "         color='blue')\n",
    "plt.xlabel('Total Ligand Concentration (mM)')\n",
    "plt.ylabel('Observed Chemical Shift Change (ppm)')\n",
    "plt.title('Ondřej Hasník')\n",
    "plt.legend()\n",
    "plt.grid(True)\n",
    "plt.show()\n"
   ]
  }
 ],
 "metadata": {
  "kernelspec": {
   "display_name": "Python 3 (ipykernel)",
   "language": "python",
   "name": "python3"
  },
  "language_info": {
   "codemirror_mode": {
    "name": "ipython",
    "version": 3
   },
   "file_extension": ".py",
   "mimetype": "text/x-python",
   "name": "python",
   "nbconvert_exporter": "python",
   "pygments_lexer": "ipython3",
   "version": "3.12.7"
  }
 },
 "nbformat": 4,
 "nbformat_minor": 5
}
